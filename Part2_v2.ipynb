{
 "cells": [
  {
   "cell_type": "markdown",
   "id": "2aa73bb0-10f8-41c1-b1f2-8dc8eda41fee",
   "metadata": {},
   "source": [
    "### Yunjo Lee et Jean Marie Vilaire\n"
   ]
  },
  {
   "cell_type": "code",
   "execution_count": 1,
   "id": "fd067253-a46c-48cc-852d-5b78b60521c5",
   "metadata": {},
   "outputs": [],
   "source": [
    "using LinearAlgebra\n",
    "using Pkg"
   ]
  },
  {
   "cell_type": "code",
   "execution_count": 2,
   "id": "39d1e915-5a9b-4676-b734-66d86e7671b9",
   "metadata": {},
   "outputs": [
    {
     "name": "stderr",
     "output_type": "stream",
     "text": [
      "\u001b[32m\u001b[1m   Resolving\u001b[22m\u001b[39m package versions...\n",
      "\u001b[32m\u001b[1m  No Changes\u001b[22m\u001b[39m to `C:\\Users\\jevilf\\.julia\\environments\\v1.10\\Project.toml`\n",
      "\u001b[32m\u001b[1m  No Changes\u001b[22m\u001b[39m to `C:\\Users\\jevilf\\.julia\\environments\\v1.10\\Manifest.toml`\n"
     ]
    }
   ],
   "source": [
    "Pkg.add(\"BenchmarkTools\")"
   ]
  },
  {
   "cell_type": "code",
   "execution_count": 3,
   "id": "284ac30e-0d55-4987-a868-1fc139803c68",
   "metadata": {},
   "outputs": [
    {
     "data": {
      "text/plain": [
       "forwardsolve (generic function with 1 method)"
      ]
     },
     "execution_count": 3,
     "metadata": {},
     "output_type": "execute_result"
    }
   ],
   "source": [
    "function backsolve(R::UpperTriangular, b)\n",
    "    x = similar(b)\n",
    "    n = length(b)\n",
    "    \n",
    "    for i in n:-1:1\n",
    "        if R[i, i] == 0\n",
    "            throw(ArgumentError(\"Matrice singuliere a la ligne $i.\"))\n",
    "        end\n",
    "        x[i] = (b[i] - dot(R[i, i+1:n], x[i+1:n])) / R[i, i]\n",
    "    end\n",
    "    return x\n",
    "end\n",
    "\n",
    "#--------------------------------------------------------------------\n",
    "function forwardsolve(L::LowerTriangular, b)\n",
    "    x = similar(b)\n",
    "    n = length(b)\n",
    "    \n",
    "    for i in 1:n\n",
    "        if L[i, i] == 0\n",
    "            throw(ArgumentError(\"Matrice singuliere a la ligne $i.\"))\n",
    "        end\n",
    "        x[i] = (b[i] - dot(L[i, 1:i-1], x[1:i-1])) / L[i, i]\n",
    "    end\n",
    "    return x\n",
    "end"
   ]
  },
  {
   "cell_type": "code",
   "execution_count": null,
   "id": "fc1958ce-da5d-40b3-b71e-bcf5bb1b2339",
   "metadata": {},
   "outputs": [],
   "source": []
  },
  {
   "cell_type": "code",
   "execution_count": 86,
   "id": "73c209c0-588e-42a8-ba45-b7d3587becfb",
   "metadata": {},
   "outputs": [
    {
     "data": {
      "text/plain": [
       "perm_lc (generic function with 1 method)"
      ]
     },
     "execution_count": 86,
     "metadata": {},
     "output_type": "execute_result"
    }
   ],
   "source": [
    "# Fonction pour permuter deux lignes et colonnes d'une matrice\n",
    "function perm_lc(A::Matrix, P::Matrix, L::Matrix, k::Int, pivot_idx::Int)\n",
    "    if pivot_idx != k\n",
    "        P[[k, pivot_idx], :] = P[[pivot_idx, k], :]\n",
    "        A[[k, pivot_idx], :] = A[[pivot_idx, k], :]\n",
    "        A[:, [k, pivot_idx]] = A[:, [pivot_idx, k]]\n",
    "        L[[k, pivot_idx], 1:k-1] = L[[pivot_idx, k], 1:k-1]\n",
    "    end\n",
    "end\n"
   ]
  },
  {
   "cell_type": "code",
   "execution_count": null,
   "id": "312a1a52-90b2-4788-8b13-7c8325b9e707",
   "metadata": {},
   "outputs": [],
   "source": []
  },
  {
   "cell_type": "code",
   "execution_count": 94,
   "id": "45019f24-a92c-46e3-a600-0090099f8e55",
   "metadata": {},
   "outputs": [
    {
     "name": "stdout",
     "output_type": "stream",
     "text": [
      "Utiliser A[1, 1] comme pivot 1-par-1\n",
      "Utiliser A[2, 2] comme pivot 1-par-1\n",
      "Utiliser A[8, 8] comme pivot 1-par-1\n",
      "Utiliser A[4, 4] comme pivot 1-par-1\n",
      "Utiliser A[8, 8] comme pivot 1-par-1\n",
      "Utiliser A[8, 8] comme pivot 1-par-1\n",
      "Utiliser A[8, 8] comme pivot 1-par-1\n",
      "Utiliser A[8, 8] comme pivot 1-par-1\n",
      "Utiliser A[9, 9] comme pivot 1-par-1\n",
      "Utiliser A[10, 10] comme pivot 1-par-1\n"
     ]
    }
   ],
   "source": [
    "using LinearAlgebra\n",
    "\n",
    "function bk_patial_pivot(A)\n",
    "    n = size(A, 1)\n",
    "    α = (1 + sqrt(17)) / 8\n",
    "\n",
    "    for k in 1:n\n",
    "        if k < n\n",
    "            λ = maximum(abs.(A[k+1:end, k]))\n",
    "            if λ > 0\n",
    "                if abs(A[k, k]) >= α * λ\n",
    "                    println(\"Utiliser A[$k, $k] comme pivot 1-par-1\")\n",
    "                else\n",
    "                    r = argmax(abs.(A[k+1:end, k]))[1] + k\n",
    "                    σ = maximum(abs.(A[:, r]))\n",
    "                    if abs(A[k, k]) * σ >= α^2 * λ^2\n",
    "                        println(\"Utiliser A[$k, $k] comme pivot 1-par-1\")\n",
    "                    elseif abs(A[r, r]) >= α * σ\n",
    "                        println(\"Utiliser A[$r, $r] comme pivot 1-par-1\")\n",
    "                    \n",
    "                    else\n",
    "                        println(\"Utiliser A[$k, $k] et A[$r, $r] comme pivot 2-par-2\")\n",
    "                    end\n",
    "                end\n",
    "            end\n",
    "        else\n",
    "            if abs(A[k, k]) > 0\n",
    "                println(\"Utiliser A[$k, $k] comme pivot 1-par-1\")\n",
    "            end\n",
    "        end\n",
    "    end\n",
    "end\n",
    "\n",
    "# Exemple d'utilisation\n",
    "A = rand(10,10)\n",
    "bk_patial_pivot(A)\n"
   ]
  },
  {
   "cell_type": "code",
   "execution_count": null,
   "id": "b7f48ea3-c4ee-451e-84b5-855c4fb56115",
   "metadata": {},
   "outputs": [],
   "source": []
  },
  {
   "cell_type": "code",
   "execution_count": 92,
   "id": "8496a05c-9e95-4964-8999-552c5b8c0ed8",
   "metadata": {},
   "outputs": [
    {
     "name": "stdout",
     "output_type": "stream",
     "text": [
      "Utiliser A[1, 1] comme pivot 1-par-1\n",
      "Utiliser A[2, 2] comme pivot 1-par-1\n",
      "Utiliser A[3, 3] comme pivot 1-par-1\n",
      "Utiliser A[4, 4] comme pivot 1-par-1\n",
      "Pivots = Any[(1, 1, 1), (2, 2, 1), (3, 3, 1), (4, 4, 1)]\n"
     ]
    }
   ],
   "source": [
    "function bp_complete_pivot(A)\n",
    "    n = size(A, 1)\n",
    "    α = (1 + sqrt(17)) / 8\n",
    "    pivots = []\n",
    "\n",
    "    for k in 1:n-1\n",
    "        ξ = maximum(abs.(A[i, j]) for i in 1:n, j in 1:n if i != j)\n",
    "        η = maximum(abs.(A[i, i]) for i in 1:n)\n",
    "        if ξ > 0 || η > 0\n",
    "            λ = maximum(abs.(A[k, :]))\n",
    "            if abs(A[k, k]) >= α * λ\n",
    "                if η >= ξ\n",
    "                    println(\"Utiliser A[$k, $k] comme pivot 1-par-1\")\n",
    "                    push!(pivots, (k, k, 1))\n",
    "                else\n",
    "                    println(\"Utiliser A[$k, $k] et A[$(k+1), $(k+1)] comme pivot 2-par-2\")\n",
    "                    push!(pivots, (k, k+1, 2))\n",
    "                end\n",
    "            end\n",
    "        end\n",
    "    end\n",
    "\n",
    "    return pivots\n",
    "end\n",
    "\n",
    "A = [1.0  1.0  1.0   1.0   1.0;\n",
    "     1.0  3.0  3.0   3.0   3.0;\n",
    "     1.0  3.0  6.0   7.0   7.0;\n",
    "     1.0  3.0  7.0  12.0  12.0;\n",
    "     1.0  3.0  7.0  12.0  17.0]\n",
    "\n",
    "pivots = bp_complete_pivot(copy(A))\n",
    "println(\"Pivots = \", pivots)\n"
   ]
  },
  {
   "cell_type": "code",
   "execution_count": 79,
   "id": "cb82e9e1-a499-49af-b2b9-724959979bf6",
   "metadata": {},
   "outputs": [
    {
     "data": {
      "text/plain": [
       "5×5 Tridiagonal{Float64, Vector{Float64}}:\n",
       " 0.666667  0.0       ⋅        ⋅         ⋅ \n",
       " 0.0       1.43478  0.0       ⋅         ⋅ \n",
       "  ⋅        0.0      1.91667  0.0        ⋅ \n",
       "  ⋅         ⋅       0.0      3.52941   0.0\n",
       "  ⋅         ⋅        ⋅       0.0      17.0"
      ]
     },
     "execution_count": 79,
     "metadata": {},
     "output_type": "execute_result"
    }
   ],
   "source": [
    "S = bunchkaufman(A)\n",
    "S.D"
   ]
  },
  {
   "cell_type": "code",
   "execution_count": 85,
   "id": "8fd3aed0-ee88-42be-8a35-c4b66cc48675",
   "metadata": {},
   "outputs": [
    {
     "data": {
      "text/plain": [
       "4×4 adjoint(::Matrix{Float64}) with eltype Float64:\n",
       " 1.0  0.25   0.5       0.75\n",
       " 0.0  1.0   -0.285714  0.142857\n",
       " 0.0  0.0    1.0       0.0\n",
       " 0.0  0.0    0.0       1.0"
      ]
     },
     "metadata": {},
     "output_type": "display_data"
    },
    {
     "data": {
      "text/plain": [
       "4×4 Diagonal{Float64, Vector{Float64}}:\n",
       " 4.0   ⋅     ⋅        ⋅ \n",
       "  ⋅   1.75   ⋅        ⋅ \n",
       "  ⋅    ⋅    1.85714   ⋅ \n",
       "  ⋅    ⋅     ⋅       1.71429"
      ]
     },
     "metadata": {},
     "output_type": "display_data"
    },
    {
     "data": {
      "text/plain": [
       "4×4 Matrix{Float64}:\n",
       " 1.0  0.0  0.0  0.0\n",
       " 0.0  1.0  0.0  0.0\n",
       " 0.0  0.0  1.0  0.0\n",
       " 0.0  0.0  0.0  1.0"
      ]
     },
     "metadata": {},
     "output_type": "display_data"
    }
   ],
   "source": [
    "using LinearAlgebra\n",
    "\n",
    "function bk(A::AbstractMatrix)\n",
    "    n = size(A, 1)\n",
    "    α = (1 + sqrt(17)) / 8\n",
    "    L = Matrix{Float64}(I, n, n)\n",
    "    D = copy(A)\n",
    "    P = Matrix{Float64}(I, n, n)\n",
    "\n",
    "    for i in 1:n-1\n",
    "        λ = maximum(abs.(A[i, :]))\n",
    "        if any(D[i:end, i:end] .> α * λ)\n",
    "            val, p = findmax(abs.(D[i:end, i]))\n",
    "            ind = p + i - 1\n",
    "            perm_lc(D, P, L, i, ind)\n",
    "\n",
    "            L[i+1:end, i] .= D[i+1:end, i] / D[i, i]\n",
    "            D[i+1:end, i] .= 0.0\n",
    "            D[i+1:end, i+1:end] .-= L[i+1:end, i] * D[i, i+1:end]'\n",
    "            D[i, i+1:end] .= 0.0\n",
    "        else\n",
    "            break\n",
    "        end\n",
    "    end\n",
    "\n",
    "    return L, Diagonal(D), P\n",
    "end\n",
    "\n",
    "A = [4.0 1.0 2.0 3.0;\n",
    "     1.0 2.0 0.0 1.0;\n",
    "     2.0 0.0 3.0 2.0;\n",
    "     3.0 1.0 2.0 4.0]\n",
    "\n",
    "L, D, P = bk(A)\n",
    "display(L')\n",
    "display(D)\n",
    "display(P)\n"
   ]
  },
  {
   "cell_type": "code",
   "execution_count": null,
   "id": "f361f033-a639-4e60-bdaa-fce0802c6f2e",
   "metadata": {},
   "outputs": [],
   "source": []
  },
  {
   "cell_type": "code",
   "execution_count": null,
   "id": "af1cb5ee-52e6-44fb-bc68-d456afc3d782",
   "metadata": {},
   "outputs": [],
   "source": []
  }
 ],
 "metadata": {
  "kernelspec": {
   "display_name": "Julia 1.10.4",
   "language": "julia",
   "name": "julia-1.10"
  },
  "language_info": {
   "file_extension": ".jl",
   "mimetype": "application/julia",
   "name": "julia",
   "version": "1.10.4"
  }
 },
 "nbformat": 4,
 "nbformat_minor": 5
}
